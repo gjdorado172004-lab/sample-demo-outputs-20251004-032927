{
 "cells": [
  {
   "cell_type": "markdown",
   "metadata": {},
   "source": [
    "# Google Colab Sample Notebook\n",
    "\n",
    "This is a sample notebook demonstrating typical Google Colab outputs."
   ]
  },
  {
   "cell_type": "code",
   "execution_count": 1,
   "metadata": {},
   "outputs": [
    {
     "name": "stdout",
     "output_type": "stream",
     "text": [
      "Hello from Google Colab!\n",
      "Python version: 3.10.12\n"
     ]
    }
   ],
   "source": [
    "import sys\n",
    "\n",
    "print(\"Hello from Google Colab!\")\n",
    "print(f\"Python version: {sys.version.split()[0]}\")"
   ]
  },
  {
   "cell_type": "code",
   "execution_count": 2,
   "metadata": {},
   "outputs": [
    {
     "name": "stdout",
     "output_type": "stream",
     "text": [
      "Sum of numbers 1 to 100: 5050\n"
     ]
    }
   ],
   "source": [
    "total = sum(range(1, 101))\n",
    "print(f\"Sum of numbers 1 to 100: {total}\")"
   ]
  },
  {
   "cell_type": "code",
   "execution_count": 3,
   "metadata": {},
   "outputs": [
    {
     "data": {
      "text/plain": [
       "[1, 4, 9, 16, 25, 36, 49, 64, 81, 100]"
      ]
     },
     "execution_count": 3,
     "metadata": {},
     "output_type": "execute_result"
    }
   ],
   "source": [
    "squares = [x**2 for x in range(1, 11)]\n",
    "squares"
   ]
  },
  {
   "cell_type": "markdown",
   "metadata": {},
   "source": [
    "## Data Analysis Example"
   ]
  },
  {
   "cell_type": "code",
   "execution_count": 4,
   "metadata": {},
   "outputs": [
    {
     "name": "stdout",
     "output_type": "stream",
     "text": [
      "Sample data analysis:\n",
      "Mean: 55.0\n",
      "Median: 55.5\n",
      "Standard deviation: 29.01\n"
     ]
    }
   ],
   "source": [
    "import statistics\n",
    "\n",
    "data = list(range(1, 101))\n",
    "print(\"Sample data analysis:\")\n",
    "print(f\"Mean: {statistics.mean(data)}\")\n",
    "print(f\"Median: {statistics.median(data)}\")\n",
    "print(f\"Standard deviation: {statistics.stdev(data):.2f}\")"
   ]
  }
 ],
 "metadata": {
  "kernelspec": {
   "display_name": "Python 3",
   "language": "python",
   "name": "python3"
  },
  "language_info": {
   "codemirror_mode": {
    "name": "ipython",
    "version": 3
   },
   "file_extension": ".py",
   "mimetype": "text/x-python",
   "name": "python",
   "nbconvert_exporter": "python",
   "version": "3.10.12"
  }
 },
 "nbformat": 4,
 "nbformat_minor": 0
}
